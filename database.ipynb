{
 "cells": [
  {
   "cell_type": "code",
   "execution_count": 2,
   "metadata": {},
   "outputs": [],
   "source": [
    "import numpy as np\n",
    "import pandas as pd\n",
    "import seaborn as sns\n",
    "import matplotlib.pyplot as plt"
   ]
  },
  {
   "cell_type": "code",
   "execution_count": 3,
   "metadata": {},
   "outputs": [],
   "source": [
    "from pymongo import MongoClient\n",
    "mongo_client = MongoClient('mongodb+srv://hack:1@cluster0.jsmw52r.mongodb.net/test')\n",
    "db = mongo_client[\"test\"]"
   ]
  },
  {
   "cell_type": "code",
   "execution_count": 4,
   "metadata": {},
   "outputs": [
    {
     "name": "stdout",
     "output_type": "stream",
     "text": [
      "Database(MongoClient(host=['ac-dldzdxi-shard-00-02.jsmw52r.mongodb.net:27017', 'ac-dldzdxi-shard-00-00.jsmw52r.mongodb.net:27017', 'ac-dldzdxi-shard-00-01.jsmw52r.mongodb.net:27017'], document_class=dict, tz_aware=False, connect=True, authsource='admin', replicaset='atlas-h6sk41-shard-0', tls=True), 'test')\n"
     ]
    }
   ],
   "source": [
    "print(db)"
   ]
  },
  {
   "cell_type": "code",
   "execution_count": 5,
   "metadata": {},
   "outputs": [
    {
     "name": "stdout",
     "output_type": "stream",
     "text": [
      "Database(MongoClient(host=['ac-dldzdxi-shard-00-02.jsmw52r.mongodb.net:27017', 'ac-dldzdxi-shard-00-00.jsmw52r.mongodb.net:27017', 'ac-dldzdxi-shard-00-01.jsmw52r.mongodb.net:27017'], document_class=dict, tz_aware=False, connect=True, authsource='admin', replicaset='atlas-h6sk41-shard-0', tls=True), 'test')\n"
     ]
    }
   ],
   "source": [
    "mycoll = db[\"vehicles\"]\n",
    "print(db)"
   ]
  },
  {
   "cell_type": "code",
   "execution_count": 6,
   "metadata": {},
   "outputs": [
    {
     "name": "stdout",
     "output_type": "stream",
     "text": [
      "{'_id': ObjectId('63ecbf4126cb3afe11f44b8d'), 'vehicleNumber': 'MH12jk4343', 'nameWithModel': 'Test Vehicle', 'totalcapacity': 20000, 'availableCapacity': 3000, 'currSpeed': 60, 'currAcceleration': 0, 'enginePower': 100, 'fuelUsed': 0, 'currentLocation': {'latitude': 1.234567, 'longitude': 2.345678}, 'srcLocation': {'latitude': 1.234567, 'longitude': 2.345678}, 'destLocation': {'latitude': 2.345678, 'longitude': 3.456789}, 'mileage': 0, 'tyrePressure': 30, 'rpmEngine': '1000', 'pedalPosition': 0, 'airFlowRate': 0, 'coolantTemperature': 0, 'driverName': 'Aman', 'maintainenaceStatus': 0, 'distanceTravelled': 0, '__v': 0}\n"
     ]
    }
   ],
   "source": [
    "one_record = mycoll.find_one()\n",
    "print(one_record)"
   ]
  },
  {
   "cell_type": "code",
   "execution_count": 7,
   "metadata": {},
   "outputs": [
    {
     "name": "stdout",
     "output_type": "stream",
     "text": [
      "0) _id\n",
      "1) vehicleNumber\n",
      "2) nameWithModel\n",
      "3) totalcapacity\n",
      "4) availableCapacity\n",
      "5) currSpeed\n",
      "6) currAcceleration\n",
      "7) enginePower\n",
      "8) fuelUsed\n",
      "9) currentLocation\n",
      "10) srcLocation\n",
      "11) destLocation\n",
      "12) mileage\n",
      "13) tyrePressure\n",
      "14) rpmEngine\n",
      "15) pedalPosition\n",
      "16) airFlowRate\n",
      "17) coolantTemperature\n",
      "18) driverName\n",
      "19) maintainenaceStatus\n",
      "20) distanceTravelled\n",
      "21) __v\n"
     ]
    }
   ],
   "source": [
    "j=0\n",
    "for i in one_record:\n",
    "    print(str(j)+\") \"+i)\n",
    "    j+=1"
   ]
  },
  {
   "cell_type": "code",
   "execution_count": 8,
   "metadata": {},
   "outputs": [
    {
     "name": "stdout",
     "output_type": "stream",
     "text": [
      "<pymongo.cursor.Cursor object at 0x7fcadb42a6e0>\n"
     ]
    }
   ],
   "source": [
    "all_records = mycoll.find()\n",
    "print(all_records)"
   ]
  },
  {
   "cell_type": "code",
   "execution_count": 9,
   "metadata": {},
   "outputs": [],
   "source": [
    "list_cursor = list(all_records)\n",
    "df = pd.DataFrame(list_cursor)"
   ]
  },
  {
   "cell_type": "code",
   "execution_count": 10,
   "metadata": {},
   "outputs": [
    {
     "data": {
      "text/plain": [
       "Index(['_id', 'vehicleNumber', 'nameWithModel', 'totalcapacity',\n",
       "       'availableCapacity', 'currSpeed', 'currAcceleration', 'enginePower',\n",
       "       'fuelUsed', 'currentLocation', 'srcLocation', 'destLocation', 'mileage',\n",
       "       'tyrePressure', 'rpmEngine', 'pedalPosition', 'airFlowRate',\n",
       "       'coolantTemperature', 'driverName', 'maintainenaceStatus',\n",
       "       'distanceTravelled', '__v'],\n",
       "      dtype='object')"
      ]
     },
     "execution_count": 10,
     "metadata": {},
     "output_type": "execute_result"
    }
   ],
   "source": [
    "df.columns"
   ]
  },
  {
   "cell_type": "code",
   "execution_count": 11,
   "metadata": {},
   "outputs": [],
   "source": [
    "df2 = df[['currSpeed', 'currAcceleration', 'enginePower',\n",
    "       'fuelUsed', 'mileage', 'tyrePressure', 'rpmEngine', 'pedalPosition', 'airFlowRate',\n",
    "       'coolantTemperature', 'maintainenaceStatus',\n",
    "       'distanceTravelled']].copy()"
   ]
  },
  {
   "cell_type": "code",
   "execution_count": 12,
   "metadata": {},
   "outputs": [],
   "source": [
    "df2.insert(12,'work_status',[1]*len(df2))"
   ]
  },
  {
   "cell_type": "code",
   "execution_count": 13,
   "metadata": {},
   "outputs": [
    {
     "data": {
      "text/html": [
       "<div>\n",
       "<style scoped>\n",
       "    .dataframe tbody tr th:only-of-type {\n",
       "        vertical-align: middle;\n",
       "    }\n",
       "\n",
       "    .dataframe tbody tr th {\n",
       "        vertical-align: top;\n",
       "    }\n",
       "\n",
       "    .dataframe thead th {\n",
       "        text-align: right;\n",
       "    }\n",
       "</style>\n",
       "<table border=\"1\" class=\"dataframe\">\n",
       "  <thead>\n",
       "    <tr style=\"text-align: right;\">\n",
       "      <th></th>\n",
       "      <th>currSpeed</th>\n",
       "      <th>currAcceleration</th>\n",
       "      <th>enginePower</th>\n",
       "      <th>fuelUsed</th>\n",
       "      <th>mileage</th>\n",
       "      <th>tyrePressure</th>\n",
       "      <th>rpmEngine</th>\n",
       "      <th>pedalPosition</th>\n",
       "      <th>airFlowRate</th>\n",
       "      <th>coolantTemperature</th>\n",
       "      <th>maintainenaceStatus</th>\n",
       "      <th>distanceTravelled</th>\n",
       "      <th>work_status</th>\n",
       "    </tr>\n",
       "  </thead>\n",
       "  <tbody>\n",
       "    <tr>\n",
       "      <th>0</th>\n",
       "      <td>60</td>\n",
       "      <td>0</td>\n",
       "      <td>100</td>\n",
       "      <td>0</td>\n",
       "      <td>0</td>\n",
       "      <td>30</td>\n",
       "      <td>1000</td>\n",
       "      <td>0</td>\n",
       "      <td>0</td>\n",
       "      <td>0</td>\n",
       "      <td>0</td>\n",
       "      <td>0</td>\n",
       "      <td>1</td>\n",
       "    </tr>\n",
       "    <tr>\n",
       "      <th>1</th>\n",
       "      <td>0</td>\n",
       "      <td>0</td>\n",
       "      <td>100</td>\n",
       "      <td>0</td>\n",
       "      <td>0</td>\n",
       "      <td>30</td>\n",
       "      <td>1000</td>\n",
       "      <td>0</td>\n",
       "      <td>0</td>\n",
       "      <td>0</td>\n",
       "      <td>1</td>\n",
       "      <td>0</td>\n",
       "      <td>1</td>\n",
       "    </tr>\n",
       "    <tr>\n",
       "      <th>2</th>\n",
       "      <td>0</td>\n",
       "      <td>0</td>\n",
       "      <td>100</td>\n",
       "      <td>0</td>\n",
       "      <td>5</td>\n",
       "      <td>30</td>\n",
       "      <td>1000</td>\n",
       "      <td>0</td>\n",
       "      <td>0</td>\n",
       "      <td>0</td>\n",
       "      <td>1</td>\n",
       "      <td>10</td>\n",
       "      <td>1</td>\n",
       "    </tr>\n",
       "    <tr>\n",
       "      <th>3</th>\n",
       "      <td>0</td>\n",
       "      <td>0</td>\n",
       "      <td>100</td>\n",
       "      <td>0</td>\n",
       "      <td>5</td>\n",
       "      <td>30</td>\n",
       "      <td>1000</td>\n",
       "      <td>0</td>\n",
       "      <td>0</td>\n",
       "      <td>0</td>\n",
       "      <td>1</td>\n",
       "      <td>10</td>\n",
       "      <td>1</td>\n",
       "    </tr>\n",
       "    <tr>\n",
       "      <th>4</th>\n",
       "      <td>0</td>\n",
       "      <td>0</td>\n",
       "      <td>100</td>\n",
       "      <td>0</td>\n",
       "      <td>5</td>\n",
       "      <td>30</td>\n",
       "      <td>1000</td>\n",
       "      <td>0</td>\n",
       "      <td>0</td>\n",
       "      <td>0</td>\n",
       "      <td>1</td>\n",
       "      <td>10</td>\n",
       "      <td>1</td>\n",
       "    </tr>\n",
       "  </tbody>\n",
       "</table>\n",
       "</div>"
      ],
      "text/plain": [
       "   currSpeed  currAcceleration  enginePower  fuelUsed  mileage  tyrePressure  \\\n",
       "0         60                 0          100         0        0            30   \n",
       "1          0                 0          100         0        0            30   \n",
       "2          0                 0          100         0        5            30   \n",
       "3          0                 0          100         0        5            30   \n",
       "4          0                 0          100         0        5            30   \n",
       "\n",
       "  rpmEngine  pedalPosition  airFlowRate  coolantTemperature  \\\n",
       "0      1000              0            0                   0   \n",
       "1      1000              0            0                   0   \n",
       "2      1000              0            0                   0   \n",
       "3      1000              0            0                   0   \n",
       "4      1000              0            0                   0   \n",
       "\n",
       "   maintainenaceStatus  distanceTravelled  work_status  \n",
       "0                    0                  0            1  \n",
       "1                    1                  0            1  \n",
       "2                    1                 10            1  \n",
       "3                    1                 10            1  \n",
       "4                    1                 10            1  "
      ]
     },
     "execution_count": 13,
     "metadata": {},
     "output_type": "execute_result"
    }
   ],
   "source": [
    "df2"
   ]
  },
  {
   "cell_type": "code",
   "execution_count": 15,
   "metadata": {},
   "outputs": [],
   "source": [
    "df2.loc[(df2['tyrePressure'] < 25), 'work_status'] = 0"
   ]
  },
  {
   "cell_type": "code",
   "execution_count": 16,
   "metadata": {},
   "outputs": [
    {
     "data": {
      "text/html": [
       "<div>\n",
       "<style scoped>\n",
       "    .dataframe tbody tr th:only-of-type {\n",
       "        vertical-align: middle;\n",
       "    }\n",
       "\n",
       "    .dataframe tbody tr th {\n",
       "        vertical-align: top;\n",
       "    }\n",
       "\n",
       "    .dataframe thead th {\n",
       "        text-align: right;\n",
       "    }\n",
       "</style>\n",
       "<table border=\"1\" class=\"dataframe\">\n",
       "  <thead>\n",
       "    <tr style=\"text-align: right;\">\n",
       "      <th></th>\n",
       "      <th>currSpeed</th>\n",
       "      <th>currAcceleration</th>\n",
       "      <th>enginePower</th>\n",
       "      <th>fuelUsed</th>\n",
       "      <th>mileage</th>\n",
       "      <th>tyrePressure</th>\n",
       "      <th>rpmEngine</th>\n",
       "      <th>pedalPosition</th>\n",
       "      <th>airFlowRate</th>\n",
       "      <th>coolantTemperature</th>\n",
       "      <th>maintainenaceStatus</th>\n",
       "      <th>distanceTravelled</th>\n",
       "      <th>work_status</th>\n",
       "    </tr>\n",
       "  </thead>\n",
       "  <tbody>\n",
       "    <tr>\n",
       "      <th>0</th>\n",
       "      <td>60</td>\n",
       "      <td>0</td>\n",
       "      <td>100</td>\n",
       "      <td>0</td>\n",
       "      <td>0</td>\n",
       "      <td>30</td>\n",
       "      <td>1000</td>\n",
       "      <td>0</td>\n",
       "      <td>0</td>\n",
       "      <td>0</td>\n",
       "      <td>0</td>\n",
       "      <td>0</td>\n",
       "      <td>1</td>\n",
       "    </tr>\n",
       "    <tr>\n",
       "      <th>1</th>\n",
       "      <td>0</td>\n",
       "      <td>0</td>\n",
       "      <td>100</td>\n",
       "      <td>0</td>\n",
       "      <td>0</td>\n",
       "      <td>30</td>\n",
       "      <td>1000</td>\n",
       "      <td>0</td>\n",
       "      <td>0</td>\n",
       "      <td>0</td>\n",
       "      <td>1</td>\n",
       "      <td>0</td>\n",
       "      <td>1</td>\n",
       "    </tr>\n",
       "    <tr>\n",
       "      <th>2</th>\n",
       "      <td>0</td>\n",
       "      <td>0</td>\n",
       "      <td>100</td>\n",
       "      <td>0</td>\n",
       "      <td>5</td>\n",
       "      <td>30</td>\n",
       "      <td>1000</td>\n",
       "      <td>0</td>\n",
       "      <td>0</td>\n",
       "      <td>0</td>\n",
       "      <td>1</td>\n",
       "      <td>10</td>\n",
       "      <td>1</td>\n",
       "    </tr>\n",
       "    <tr>\n",
       "      <th>3</th>\n",
       "      <td>0</td>\n",
       "      <td>0</td>\n",
       "      <td>100</td>\n",
       "      <td>0</td>\n",
       "      <td>5</td>\n",
       "      <td>30</td>\n",
       "      <td>1000</td>\n",
       "      <td>0</td>\n",
       "      <td>0</td>\n",
       "      <td>0</td>\n",
       "      <td>1</td>\n",
       "      <td>10</td>\n",
       "      <td>1</td>\n",
       "    </tr>\n",
       "    <tr>\n",
       "      <th>4</th>\n",
       "      <td>0</td>\n",
       "      <td>0</td>\n",
       "      <td>100</td>\n",
       "      <td>0</td>\n",
       "      <td>5</td>\n",
       "      <td>30</td>\n",
       "      <td>1000</td>\n",
       "      <td>0</td>\n",
       "      <td>0</td>\n",
       "      <td>0</td>\n",
       "      <td>1</td>\n",
       "      <td>10</td>\n",
       "      <td>1</td>\n",
       "    </tr>\n",
       "  </tbody>\n",
       "</table>\n",
       "</div>"
      ],
      "text/plain": [
       "   currSpeed  currAcceleration  enginePower  fuelUsed  mileage  tyrePressure  \\\n",
       "0         60                 0          100         0        0            30   \n",
       "1          0                 0          100         0        0            30   \n",
       "2          0                 0          100         0        5            30   \n",
       "3          0                 0          100         0        5            30   \n",
       "4          0                 0          100         0        5            30   \n",
       "\n",
       "  rpmEngine  pedalPosition  airFlowRate  coolantTemperature  \\\n",
       "0      1000              0            0                   0   \n",
       "1      1000              0            0                   0   \n",
       "2      1000              0            0                   0   \n",
       "3      1000              0            0                   0   \n",
       "4      1000              0            0                   0   \n",
       "\n",
       "   maintainenaceStatus  distanceTravelled  work_status  \n",
       "0                    0                  0            1  \n",
       "1                    1                  0            1  \n",
       "2                    1                 10            1  \n",
       "3                    1                 10            1  \n",
       "4                    1                 10            1  "
      ]
     },
     "execution_count": 16,
     "metadata": {},
     "output_type": "execute_result"
    }
   ],
   "source": [
    "df2"
   ]
  },
  {
   "cell_type": "code",
   "execution_count": 17,
   "metadata": {},
   "outputs": [],
   "source": [
    "# Parameters for checkind work_status\n",
    "\n",
    "# tyrePressure\n",
    "# currSpeed and enginePower\n",
    "# currSpeed and rpmEngine\n",
    "# pedalPosition and airFlowRate\n",
    "# coolantTemperature\n",
    "# maintainanceStatus and distanceTravelled\n",
    "# mileage fuelUsed"
   ]
  },
  {
   "cell_type": "code",
   "execution_count": null,
   "metadata": {},
   "outputs": [],
   "source": []
  }
 ],
 "metadata": {
  "kernelspec": {
   "display_name": "Python 3",
   "language": "python",
   "name": "python3"
  },
  "language_info": {
   "codemirror_mode": {
    "name": "ipython",
    "version": 3
   },
   "file_extension": ".py",
   "mimetype": "text/x-python",
   "name": "python",
   "nbconvert_exporter": "python",
   "pygments_lexer": "ipython3",
   "version": "3.10.6"
  },
  "orig_nbformat": 4,
  "vscode": {
   "interpreter": {
    "hash": "916dbcbb3f70747c44a77c7bcd40155683ae19c65e1c03b4aa3499c5328201f1"
   }
  }
 },
 "nbformat": 4,
 "nbformat_minor": 2
}
